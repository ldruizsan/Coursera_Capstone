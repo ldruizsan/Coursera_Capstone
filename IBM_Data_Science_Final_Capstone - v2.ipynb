{
  "nbformat": 4,
  "nbformat_minor": 0,
  "metadata": {
    "colab": {
      "name": "IBM Data Science Final Capstone",
      "provenance": [],
      "toc_visible": true,
      "authorship_tag": "ABX9TyMnF2f0L4sLbIsUd4drAr5/",
      "include_colab_link": true
    },
    "kernelspec": {
      "name": "python3",
      "display_name": "Python 3"
    }
  },
  "cells": [
    {
      "cell_type": "markdown",
      "metadata": {
        "id": "view-in-github",
        "colab_type": "text"
      },
      "source": [
        "<a href=\"https://colab.research.google.com/github/ldruizsan/Coursera_Capstone/blob/main/IBM_Data_Science_Final_Capstone%20-%20v2.ipynb\" target=\"_parent\"><img src=\"https://colab.research.google.com/assets/colab-badge.svg\" alt=\"Open In Colab\"/></a>"
      ]
    },
    {
      "cell_type": "markdown",
      "metadata": {
        "id": "kw9RNyrDQFWS"
      },
      "source": [
        "## This notebook will contain the Final Capstone Project for IBM's Data Science Professional Certificate"
      ]
    },
    {
      "cell_type": "code",
      "metadata": {
        "id": "jVhuzIhrQBgi"
      },
      "source": [
        "import pandas as pd\r\n",
        "import numpy as np\r\n",
        "from bs4 import BeautifulSoup\r\n",
        "import requests"
      ],
      "execution_count": 1,
      "outputs": []
    },
    {
      "cell_type": "code",
      "metadata": {
        "colab": {
          "base_uri": "https://localhost:8080/"
        },
        "id": "9kgggf-RnctF",
        "outputId": "902a3276-25f4-47e1-c9c8-52d9f91d994c"
      },
      "source": [
        "!pip install geocoder"
      ],
      "execution_count": 2,
      "outputs": [
        {
          "output_type": "stream",
          "text": [
            "Requirement already satisfied: geocoder in /usr/local/lib/python3.7/dist-packages (1.38.1)\n",
            "Requirement already satisfied: six in /usr/local/lib/python3.7/dist-packages (from geocoder) (1.15.0)\n",
            "Requirement already satisfied: requests in /usr/local/lib/python3.7/dist-packages (from geocoder) (2.23.0)\n",
            "Requirement already satisfied: click in /usr/local/lib/python3.7/dist-packages (from geocoder) (7.1.2)\n",
            "Requirement already satisfied: ratelim in /usr/local/lib/python3.7/dist-packages (from geocoder) (0.1.6)\n",
            "Requirement already satisfied: future in /usr/local/lib/python3.7/dist-packages (from geocoder) (0.16.0)\n",
            "Requirement already satisfied: idna<3,>=2.5 in /usr/local/lib/python3.7/dist-packages (from requests->geocoder) (2.10)\n",
            "Requirement already satisfied: chardet<4,>=3.0.2 in /usr/local/lib/python3.7/dist-packages (from requests->geocoder) (3.0.4)\n",
            "Requirement already satisfied: certifi>=2017.4.17 in /usr/local/lib/python3.7/dist-packages (from requests->geocoder) (2020.12.5)\n",
            "Requirement already satisfied: urllib3!=1.25.0,!=1.25.1,<1.26,>=1.21.1 in /usr/local/lib/python3.7/dist-packages (from requests->geocoder) (1.24.3)\n",
            "Requirement already satisfied: decorator in /usr/local/lib/python3.7/dist-packages (from ratelim->geocoder) (4.4.2)\n"
          ],
          "name": "stdout"
        }
      ]
    },
    {
      "cell_type": "code",
      "metadata": {
        "colab": {
          "base_uri": "https://localhost:8080/"
        },
        "id": "b6ja8ilAQUVZ",
        "outputId": "921a8ab9-3402-49c7-c544-35096472887e"
      },
      "source": [
        "print(\"Hello Capstone Project Course!\")"
      ],
      "execution_count": 3,
      "outputs": [
        {
          "output_type": "stream",
          "text": [
            "Hello Capstone Project Course!\n"
          ],
          "name": "stdout"
        }
      ]
    },
    {
      "cell_type": "markdown",
      "metadata": {
        "id": "i56UI-mMrMY9"
      },
      "source": [
        "For this project, I will use clustering algorithms to distinguish neighborhoods in Toronto, Canada. We will use the Wikipedia table of postal codes for Toronto found [here](https://en.wikipedia.org/w/index.php?title=List_of_postal_codes_of_Canada:_M&direction=prev&oldid=1012023397)\r\n",
        "\r\n",
        "Let's start by setting the url that contains the link and then use the requests module to to access the HTML source code."
      ]
    },
    {
      "cell_type": "code",
      "metadata": {
        "id": "w1KYHyiiQWLL"
      },
      "source": [
        "#url = 'https://www.zipcodesonline.com/2020/06/postal-code-of-toronto-in-2020.html'\r\n",
        "url = 'https://en.wikipedia.org/w/index.php?title=List_of_postal_codes_of_Canada:_M&direction=prev&oldid=1012023397'"
      ],
      "execution_count": 4,
      "outputs": []
    },
    {
      "cell_type": "code",
      "metadata": {
        "id": "DN5IQJZWwVqV"
      },
      "source": [
        "toronto_data = requests.get(url).text"
      ],
      "execution_count": 5,
      "outputs": []
    },
    {
      "cell_type": "markdown",
      "metadata": {
        "id": "FaVXLWqRr3TG"
      },
      "source": [
        "A BeatifulSoup object is created to parse the table"
      ]
    },
    {
      "cell_type": "code",
      "metadata": {
        "id": "5sdvYYPgwqmy"
      },
      "source": [
        "soup = BeautifulSoup(toronto_data, 'html5lib')"
      ],
      "execution_count": 6,
      "outputs": []
    },
    {
      "cell_type": "code",
      "metadata": {
        "id": "3sKXhuDrw22L"
      },
      "source": [
        "toronto_table = soup.find('table')"
      ],
      "execution_count": 7,
      "outputs": []
    },
    {
      "cell_type": "code",
      "metadata": {
        "colab": {
          "base_uri": "https://localhost:8080/"
        },
        "id": "6xznZ8Xzxjs1",
        "outputId": "db04afc2-ad79-443d-dc64-98eab0d039c8"
      },
      "source": [
        "column_list = ['Postal Code','Neighborhood','Borough']\r\n",
        "toronto_df = pd.DataFrame(columns=column_list)\r\n",
        "for row in toronto_table.tbody.find_all('tr'):\r\n",
        "    cols = row.find_all('td')\r\n",
        "    if cols != []:\r\n",
        "      zipcode = cols[0].text.strip()\r\n",
        "      borough = cols[1].text.strip()\r\n",
        "      neighborhood = cols[2].text.strip()\r\n",
        "      toronto_df = toronto_df.append({'Postal Code': zipcode,'Neighborhood':neighborhood,'Borough':borough}, ignore_index=True)\r\n",
        "\r\n",
        "print(toronto_df.head())\r\n",
        "print(toronto_df.shape)"
      ],
      "execution_count": 8,
      "outputs": [
        {
          "output_type": "stream",
          "text": [
            "  Postal Code               Neighborhood           Borough\n",
            "0         M1A               Not assigned      Not assigned\n",
            "1         M2A               Not assigned      Not assigned\n",
            "2         M3A                  Parkwoods        North York\n",
            "3         M4A           Victoria Village        North York\n",
            "4         M5A  Regent Park, Harbourfront  Downtown Toronto\n",
            "(180, 3)\n"
          ],
          "name": "stdout"
        }
      ]
    },
    {
      "cell_type": "markdown",
      "metadata": {
        "id": "Lk96-b38sAt7"
      },
      "source": [
        "Having parsed the table, we see several postal codes have not been assigned to a neighborhood or borough yet. Let's get rid of rows that contain these unassigned areas by using the drop method. In addition, this table does not contain rows where either Borough or Neighborhood columns are unassigned so this is why I just drop the whole row."
      ]
    },
    {
      "cell_type": "code",
      "metadata": {
        "colab": {
          "base_uri": "https://localhost:8080/",
          "height": 204
        },
        "id": "iWir22QvyLXU",
        "outputId": "0604e128-3240-4dfc-e296-a00c8831ef39"
      },
      "source": [
        "toronto_df.drop(labels=toronto_df[toronto_df['Borough'] == 'Not assigned'].index,axis=0,inplace=True)\r\n",
        "toronto_df.head()"
      ],
      "execution_count": 9,
      "outputs": [
        {
          "output_type": "execute_result",
          "data": {
            "text/html": [
              "<div>\n",
              "<style scoped>\n",
              "    .dataframe tbody tr th:only-of-type {\n",
              "        vertical-align: middle;\n",
              "    }\n",
              "\n",
              "    .dataframe tbody tr th {\n",
              "        vertical-align: top;\n",
              "    }\n",
              "\n",
              "    .dataframe thead th {\n",
              "        text-align: right;\n",
              "    }\n",
              "</style>\n",
              "<table border=\"1\" class=\"dataframe\">\n",
              "  <thead>\n",
              "    <tr style=\"text-align: right;\">\n",
              "      <th></th>\n",
              "      <th>Postal Code</th>\n",
              "      <th>Neighborhood</th>\n",
              "      <th>Borough</th>\n",
              "    </tr>\n",
              "  </thead>\n",
              "  <tbody>\n",
              "    <tr>\n",
              "      <th>2</th>\n",
              "      <td>M3A</td>\n",
              "      <td>Parkwoods</td>\n",
              "      <td>North York</td>\n",
              "    </tr>\n",
              "    <tr>\n",
              "      <th>3</th>\n",
              "      <td>M4A</td>\n",
              "      <td>Victoria Village</td>\n",
              "      <td>North York</td>\n",
              "    </tr>\n",
              "    <tr>\n",
              "      <th>4</th>\n",
              "      <td>M5A</td>\n",
              "      <td>Regent Park, Harbourfront</td>\n",
              "      <td>Downtown Toronto</td>\n",
              "    </tr>\n",
              "    <tr>\n",
              "      <th>5</th>\n",
              "      <td>M6A</td>\n",
              "      <td>Lawrence Manor, Lawrence Heights</td>\n",
              "      <td>North York</td>\n",
              "    </tr>\n",
              "    <tr>\n",
              "      <th>6</th>\n",
              "      <td>M7A</td>\n",
              "      <td>Queen's Park, Ontario Provincial Government</td>\n",
              "      <td>Downtown Toronto</td>\n",
              "    </tr>\n",
              "  </tbody>\n",
              "</table>\n",
              "</div>"
            ],
            "text/plain": [
              "  Postal Code                                 Neighborhood           Borough\n",
              "2         M3A                                    Parkwoods        North York\n",
              "3         M4A                             Victoria Village        North York\n",
              "4         M5A                    Regent Park, Harbourfront  Downtown Toronto\n",
              "5         M6A             Lawrence Manor, Lawrence Heights        North York\n",
              "6         M7A  Queen's Park, Ontario Provincial Government  Downtown Toronto"
            ]
          },
          "metadata": {
            "tags": []
          },
          "execution_count": 9
        }
      ]
    },
    {
      "cell_type": "code",
      "metadata": {
        "colab": {
          "base_uri": "https://localhost:8080/"
        },
        "id": "-rLWTogryXj_",
        "outputId": "65b9ed75-d99e-4752-9f54-0dcbda8ded5f"
      },
      "source": [
        "toronto_df.shape"
      ],
      "execution_count": 10,
      "outputs": [
        {
          "output_type": "execute_result",
          "data": {
            "text/plain": [
              "(103, 3)"
            ]
          },
          "metadata": {
            "tags": []
          },
          "execution_count": 10
        }
      ]
    }
  ]
}