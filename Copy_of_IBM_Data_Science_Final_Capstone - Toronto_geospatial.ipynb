{
  "nbformat": 4,
  "nbformat_minor": 0,
  "metadata": {
    "colab": {
      "name": "Copy of IBM Data Science Final Capstone",
      "provenance": [],
      "toc_visible": true,
      "authorship_tag": "ABX9TyNY38ou3ed1OG/JerK80DIK",
      "include_colab_link": true
    },
    "kernelspec": {
      "name": "python3",
      "display_name": "Python 3"
    }
  },
  "cells": [
    {
      "cell_type": "markdown",
      "metadata": {
        "id": "view-in-github",
        "colab_type": "text"
      },
      "source": [
        "<a href=\"https://colab.research.google.com/github/ldruizsan/Coursera_Capstone/blob/main/Copy_of_IBM_Data_Science_Final_Capstone%20-%20Toronto_geospatial.ipynb\" target=\"_parent\"><img src=\"https://colab.research.google.com/assets/colab-badge.svg\" alt=\"Open In Colab\"/></a>"
      ]
    },
    {
      "cell_type": "markdown",
      "metadata": {
        "id": "kw9RNyrDQFWS"
      },
      "source": [
        "## This notebook will contain the Final Capstone Project for IBM's Data Science Professional Certificate"
      ]
    },
    {
      "cell_type": "code",
      "metadata": {
        "id": "jVhuzIhrQBgi"
      },
      "source": [
        "import pandas as pd\n",
        "import numpy as np\n",
        "from bs4 import BeautifulSoup\n",
        "import requests"
      ],
      "execution_count": null,
      "outputs": []
    },
    {
      "cell_type": "code",
      "metadata": {
        "colab": {
          "base_uri": "https://localhost:8080/"
        },
        "id": "9kgggf-RnctF",
        "outputId": "902a3276-25f4-47e1-c9c8-52d9f91d994c"
      },
      "source": [
        "!pip install geocoder"
      ],
      "execution_count": null,
      "outputs": [
        {
          "output_type": "stream",
          "text": [
            "Requirement already satisfied: geocoder in /usr/local/lib/python3.7/dist-packages (1.38.1)\n",
            "Requirement already satisfied: six in /usr/local/lib/python3.7/dist-packages (from geocoder) (1.15.0)\n",
            "Requirement already satisfied: requests in /usr/local/lib/python3.7/dist-packages (from geocoder) (2.23.0)\n",
            "Requirement already satisfied: click in /usr/local/lib/python3.7/dist-packages (from geocoder) (7.1.2)\n",
            "Requirement already satisfied: ratelim in /usr/local/lib/python3.7/dist-packages (from geocoder) (0.1.6)\n",
            "Requirement already satisfied: future in /usr/local/lib/python3.7/dist-packages (from geocoder) (0.16.0)\n",
            "Requirement already satisfied: idna<3,>=2.5 in /usr/local/lib/python3.7/dist-packages (from requests->geocoder) (2.10)\n",
            "Requirement already satisfied: chardet<4,>=3.0.2 in /usr/local/lib/python3.7/dist-packages (from requests->geocoder) (3.0.4)\n",
            "Requirement already satisfied: certifi>=2017.4.17 in /usr/local/lib/python3.7/dist-packages (from requests->geocoder) (2020.12.5)\n",
            "Requirement already satisfied: urllib3!=1.25.0,!=1.25.1,<1.26,>=1.21.1 in /usr/local/lib/python3.7/dist-packages (from requests->geocoder) (1.24.3)\n",
            "Requirement already satisfied: decorator in /usr/local/lib/python3.7/dist-packages (from ratelim->geocoder) (4.4.2)\n"
          ],
          "name": "stdout"
        }
      ]
    },
    {
      "cell_type": "code",
      "metadata": {
        "colab": {
          "base_uri": "https://localhost:8080/"
        },
        "id": "b6ja8ilAQUVZ",
        "outputId": "921a8ab9-3402-49c7-c544-35096472887e"
      },
      "source": [
        "print(\"Hello Capstone Project Course!\")"
      ],
      "execution_count": null,
      "outputs": [
        {
          "output_type": "stream",
          "text": [
            "Hello Capstone Project Course!\n"
          ],
          "name": "stdout"
        }
      ]
    },
    {
      "cell_type": "markdown",
      "metadata": {
        "id": "i56UI-mMrMY9"
      },
      "source": [
        "For this project, I will use clustering algorithms to distinguish neighborhoods in Toronto, Canada. We will use the Wikipedia table of postal codes for Toronto found [here](https://en.wikipedia.org/w/index.php?title=List_of_postal_codes_of_Canada:_M&direction=prev&oldid=1012023397)\n",
        "\n",
        "Let's start by setting the url that contains the link and then use the requests module to to access the HTML source code."
      ]
    },
    {
      "cell_type": "code",
      "metadata": {
        "id": "w1KYHyiiQWLL"
      },
      "source": [
        "#url = 'https://www.zipcodesonline.com/2020/06/postal-code-of-toronto-in-2020.html'\n",
        "url = 'https://en.wikipedia.org/w/index.php?title=List_of_postal_codes_of_Canada:_M&direction=prev&oldid=1012023397'"
      ],
      "execution_count": null,
      "outputs": []
    },
    {
      "cell_type": "code",
      "metadata": {
        "id": "DN5IQJZWwVqV"
      },
      "source": [
        "toronto_data = requests.get(url).text"
      ],
      "execution_count": null,
      "outputs": []
    },
    {
      "cell_type": "markdown",
      "metadata": {
        "id": "FaVXLWqRr3TG"
      },
      "source": [
        "A BeatifulSoup object is created to parse the table"
      ]
    },
    {
      "cell_type": "code",
      "metadata": {
        "id": "5sdvYYPgwqmy"
      },
      "source": [
        "soup = BeautifulSoup(toronto_data, 'html5lib')"
      ],
      "execution_count": null,
      "outputs": []
    },
    {
      "cell_type": "code",
      "metadata": {
        "id": "3sKXhuDrw22L"
      },
      "source": [
        "toronto_table = soup.find('table')"
      ],
      "execution_count": null,
      "outputs": []
    },
    {
      "cell_type": "code",
      "metadata": {
        "colab": {
          "base_uri": "https://localhost:8080/"
        },
        "id": "6xznZ8Xzxjs1",
        "outputId": "db04afc2-ad79-443d-dc64-98eab0d039c8"
      },
      "source": [
        "column_list = ['Postal Code','Neighborhood','Borough']\n",
        "toronto_df = pd.DataFrame(columns=column_list)\n",
        "for row in toronto_table.tbody.find_all('tr'):\n",
        "    cols = row.find_all('td')\n",
        "    if cols != []:\n",
        "      zipcode = cols[0].text.strip()\n",
        "      borough = cols[1].text.strip()\n",
        "      neighborhood = cols[2].text.strip()\n",
        "      toronto_df = toronto_df.append({'Postal Code': zipcode,'Neighborhood':neighborhood,'Borough':borough}, ignore_index=True)\n",
        "\n",
        "print(toronto_df.head())\n",
        "print(toronto_df.shape)"
      ],
      "execution_count": null,
      "outputs": [
        {
          "output_type": "stream",
          "text": [
            "  Postal Code               Neighborhood           Borough\n",
            "0         M1A               Not assigned      Not assigned\n",
            "1         M2A               Not assigned      Not assigned\n",
            "2         M3A                  Parkwoods        North York\n",
            "3         M4A           Victoria Village        North York\n",
            "4         M5A  Regent Park, Harbourfront  Downtown Toronto\n",
            "(180, 3)\n"
          ],
          "name": "stdout"
        }
      ]
    },
    {
      "cell_type": "markdown",
      "metadata": {
        "id": "Lk96-b38sAt7"
      },
      "source": [
        "Having parsed the table, we see several postal codes have not been assigned to a neighborhood or borough yet. Let's get rid of rows that contain these unassigned areas by using the drop method. In addition, this table does not contain rows where either Borough or Neighborhood columns are unassigned so this is why I just drop the whole row."
      ]
    },
    {
      "cell_type": "code",
      "metadata": {
        "colab": {
          "base_uri": "https://localhost:8080/",
          "height": 204
        },
        "id": "iWir22QvyLXU",
        "outputId": "0604e128-3240-4dfc-e296-a00c8831ef39"
      },
      "source": [
        "toronto_df.drop(labels=toronto_df[toronto_df['Borough'] == 'Not assigned'].index,axis=0,inplace=True)\n",
        "toronto_df.head()"
      ],
      "execution_count": null,
      "outputs": [
        {
          "output_type": "execute_result",
          "data": {
            "text/html": [
              "<div>\n",
              "<style scoped>\n",
              "    .dataframe tbody tr th:only-of-type {\n",
              "        vertical-align: middle;\n",
              "    }\n",
              "\n",
              "    .dataframe tbody tr th {\n",
              "        vertical-align: top;\n",
              "    }\n",
              "\n",
              "    .dataframe thead th {\n",
              "        text-align: right;\n",
              "    }\n",
              "</style>\n",
              "<table border=\"1\" class=\"dataframe\">\n",
              "  <thead>\n",
              "    <tr style=\"text-align: right;\">\n",
              "      <th></th>\n",
              "      <th>Postal Code</th>\n",
              "      <th>Neighborhood</th>\n",
              "      <th>Borough</th>\n",
              "    </tr>\n",
              "  </thead>\n",
              "  <tbody>\n",
              "    <tr>\n",
              "      <th>2</th>\n",
              "      <td>M3A</td>\n",
              "      <td>Parkwoods</td>\n",
              "      <td>North York</td>\n",
              "    </tr>\n",
              "    <tr>\n",
              "      <th>3</th>\n",
              "      <td>M4A</td>\n",
              "      <td>Victoria Village</td>\n",
              "      <td>North York</td>\n",
              "    </tr>\n",
              "    <tr>\n",
              "      <th>4</th>\n",
              "      <td>M5A</td>\n",
              "      <td>Regent Park, Harbourfront</td>\n",
              "      <td>Downtown Toronto</td>\n",
              "    </tr>\n",
              "    <tr>\n",
              "      <th>5</th>\n",
              "      <td>M6A</td>\n",
              "      <td>Lawrence Manor, Lawrence Heights</td>\n",
              "      <td>North York</td>\n",
              "    </tr>\n",
              "    <tr>\n",
              "      <th>6</th>\n",
              "      <td>M7A</td>\n",
              "      <td>Queen's Park, Ontario Provincial Government</td>\n",
              "      <td>Downtown Toronto</td>\n",
              "    </tr>\n",
              "  </tbody>\n",
              "</table>\n",
              "</div>"
            ],
            "text/plain": [
              "  Postal Code                                 Neighborhood           Borough\n",
              "2         M3A                                    Parkwoods        North York\n",
              "3         M4A                             Victoria Village        North York\n",
              "4         M5A                    Regent Park, Harbourfront  Downtown Toronto\n",
              "5         M6A             Lawrence Manor, Lawrence Heights        North York\n",
              "6         M7A  Queen's Park, Ontario Provincial Government  Downtown Toronto"
            ]
          },
          "metadata": {
            "tags": []
          },
          "execution_count": 9
        }
      ]
    },
    {
      "cell_type": "code",
      "metadata": {
        "colab": {
          "base_uri": "https://localhost:8080/"
        },
        "id": "-rLWTogryXj_",
        "outputId": "65b9ed75-d99e-4752-9f54-0dcbda8ded5f"
      },
      "source": [
        "toronto_df.shape"
      ],
      "execution_count": null,
      "outputs": [
        {
          "output_type": "execute_result",
          "data": {
            "text/plain": [
              "(103, 3)"
            ]
          },
          "metadata": {
            "tags": []
          },
          "execution_count": 10
        }
      ]
    },
    {
      "cell_type": "code",
      "metadata": {
        "id": "d_k3J1CN57jS"
      },
      "source": [
        "# @hidden\n",
        "# import geocoder # import geocoder\n",
        "\n",
        "# # initialize your variable to None\n",
        "# lat_lng_coords = None\n",
        "\n",
        "# for coordinate in toronto_df['Postal Code']:\n",
        "# # loop until you get the coordinates\n",
        "#   while(lat_lng_coords is None):\n",
        "#     g = geocoder.google('{}, Toronto, Ontario'.format(zipcode))\n",
        "#     lat_lng_coords = g.latlng\n",
        "\n",
        "#   latitude = lat_lng_coords[0]\n",
        "#   longitude = lat_lng_coords[1]"
      ],
      "execution_count": null,
      "outputs": []
    },
    {
      "cell_type": "markdown",
      "metadata": {
        "id": "yYsbv1hYVCwj"
      },
      "source": [
        "Let's download a csv file that contains geospatial information for each zip code and then load this information into a dataframe called geo_df"
      ]
    },
    {
      "cell_type": "code",
      "metadata": {
        "colab": {
          "base_uri": "https://localhost:8080/"
        },
        "id": "7vQ3LshavByw",
        "outputId": "6c3b1819-7157-4b57-e94f-191c3d89c509"
      },
      "source": [
        " !wget 'https://cocl.us/Geospatial_data'"
      ],
      "execution_count": null,
      "outputs": [
        {
          "output_type": "stream",
          "text": [
            "--2021-03-19 23:46:42--  https://cocl.us/Geospatial_data\n",
            "Resolving cocl.us (cocl.us)... 52.116.121.148, 52.116.127.82\n",
            "Connecting to cocl.us (cocl.us)|52.116.121.148|:443... connected.\n",
            "HTTP request sent, awaiting response... 301 Moved Permanently\n",
            "Location: https://ibm.box.com/shared/static/9afzr83pps4pwf2smjjcf1y5mvgb18rr.csv [following]\n",
            "--2021-03-19 23:46:43--  https://ibm.box.com/shared/static/9afzr83pps4pwf2smjjcf1y5mvgb18rr.csv\n",
            "Resolving ibm.box.com (ibm.box.com)... 107.152.26.197\n",
            "Connecting to ibm.box.com (ibm.box.com)|107.152.26.197|:443... connected.\n",
            "HTTP request sent, awaiting response... 301 Moved Permanently\n",
            "Location: /public/static/9afzr83pps4pwf2smjjcf1y5mvgb18rr.csv [following]\n",
            "--2021-03-19 23:46:43--  https://ibm.box.com/public/static/9afzr83pps4pwf2smjjcf1y5mvgb18rr.csv\n",
            "Reusing existing connection to ibm.box.com:443.\n",
            "HTTP request sent, awaiting response... 301 Moved Permanently\n",
            "Location: https://ibm.ent.box.com/public/static/9afzr83pps4pwf2smjjcf1y5mvgb18rr.csv [following]\n",
            "--2021-03-19 23:46:43--  https://ibm.ent.box.com/public/static/9afzr83pps4pwf2smjjcf1y5mvgb18rr.csv\n",
            "Resolving ibm.ent.box.com (ibm.ent.box.com)... 107.152.26.201\n",
            "Connecting to ibm.ent.box.com (ibm.ent.box.com)|107.152.26.201|:443... connected.\n",
            "HTTP request sent, awaiting response... 302 Found\n",
            "Location: https://public.boxcloud.com/d/1/b1!_-Kij7VLogGddrIzDUwoPsu2ICXNp6LKPeZJuqM3JWxvKYahLjw9Zfe-KCXdCbBm4R4d5R9Y-HTMmgUvFcARK5yYPlMHpu0u00ujsaTpbpcu9LKQYATA5LWpsJ4BUJtAF7niwmjc3h_UAXqtnZNrprlWBmpLvMtzhdJ9gJbNNCUvrzcRz2fHQOKxrTkGWFXa0J9zKafHcdGFFrCJUyLTCgyLRlVAC8g43rlAIv7XTyTsCsWPdHPs4O3Xfk3h1D6C-qdBiPjyske2bRYzV_5SP03YIegmB7KO3gqcEPM_zNKbPS_ZU0jNiY7gyLKAyZKf9uePmqjV9dggns1T933p9XvUs0VTZMT8z9V3TDS5N3CRp003HubeTb5imf9tfuM6t1_dTZLrjlIS5kcPrs_0ON9-CJz-rjXhZGWAU5Kr1Dl2yAtiEiQ-3GRE8ic_gCVTdvVEw_NlF6tPCRY2el47Kh0DREVbRbOmCpOmxerpFncRYdJoB3VKWwG4212nGVAs4OPhqzdJR-jGhUtHcDmsrRABxCVXBYFPsrmxqtjevj_hEihAay66kGJMETdet5cmsuWtSzBYTJjzrLjZInxPniR3vUM71ENH7C-9XpgZkHtRnds6E6ZgY68vdgkdAFGk35i-AUEBkdCtUIKoHfOCogUvYs0sMxX_LL5xGn0Au0UGH_tq2oxxbyicOZWr-un51qSWiFg5X_wZwzl0defYG2_VWcgbFaJa9fx-JNW2MzHifFOZxEBzR2eobpsf8IfMbJa5QgwkF8sPW8pvk2RnY1pR8hXmtbmle4HBjSfc4yF4ADueElScQ2voCarnWOwaRi2I27vKVp8iljdCoPS3_dmhL9-GqMJy1hUhIiaHfZ1it4-6-hyqSR_xcehjz2B1YGHXOZ2jC44cIzFopPPFR05yzV-Tb7QFdbhZycjvMKLZA1LH8KtA-qFy0j1EMtgS0yOOvd9e8BL-G9W8y75R7NpRNe8Cvx7xuUZ7c9KcQXJHagK48KoMKBMLaK6dz5qtx2_NPNoN_qfA3t1_N9Wer9_X_U_Q72BfGq7RK5EkJGex8UkK59gJYyvHV2gE5DGKMo7BEvKphBNOARinWfN9NUjPZATKoV2SYuxxHK4DYF56fhNDfV55K6K1k7fjOq4VKiaGzJeOCFbk1UnL75R8FtFuXdq1ZqeDxbR3wmDHe3sr2Foc87mw_FZJfl14G_Twjo2EXIsvsSy6eblxmQvWKqcq1xXQYGIbTLov1ihoXzXok6DgKWWu_FzTs3Lskx5kONf3WvPo81c0yYxS3H0pkX0ANdP6Is1s4QL3GyKlD9sDJaQljwwAnIhTTpL5MsyzP_503y6DnHo2SWc-RgTdcNMy6TKviHWmg9AKFuGYaUMIQhtIvQaQgiIZWWt8lVdbMYMI9EmIpMVi0IcXfP2oLZIgt6oJ3f9Y7GuRhxsxBKEsw9J7jF0cpyOVu7gsVUkeEA4ujqhEMPiCGZA./download [following]\n",
            "--2021-03-19 23:46:44--  https://public.boxcloud.com/d/1/b1!_-Kij7VLogGddrIzDUwoPsu2ICXNp6LKPeZJuqM3JWxvKYahLjw9Zfe-KCXdCbBm4R4d5R9Y-HTMmgUvFcARK5yYPlMHpu0u00ujsaTpbpcu9LKQYATA5LWpsJ4BUJtAF7niwmjc3h_UAXqtnZNrprlWBmpLvMtzhdJ9gJbNNCUvrzcRz2fHQOKxrTkGWFXa0J9zKafHcdGFFrCJUyLTCgyLRlVAC8g43rlAIv7XTyTsCsWPdHPs4O3Xfk3h1D6C-qdBiPjyske2bRYzV_5SP03YIegmB7KO3gqcEPM_zNKbPS_ZU0jNiY7gyLKAyZKf9uePmqjV9dggns1T933p9XvUs0VTZMT8z9V3TDS5N3CRp003HubeTb5imf9tfuM6t1_dTZLrjlIS5kcPrs_0ON9-CJz-rjXhZGWAU5Kr1Dl2yAtiEiQ-3GRE8ic_gCVTdvVEw_NlF6tPCRY2el47Kh0DREVbRbOmCpOmxerpFncRYdJoB3VKWwG4212nGVAs4OPhqzdJR-jGhUtHcDmsrRABxCVXBYFPsrmxqtjevj_hEihAay66kGJMETdet5cmsuWtSzBYTJjzrLjZInxPniR3vUM71ENH7C-9XpgZkHtRnds6E6ZgY68vdgkdAFGk35i-AUEBkdCtUIKoHfOCogUvYs0sMxX_LL5xGn0Au0UGH_tq2oxxbyicOZWr-un51qSWiFg5X_wZwzl0defYG2_VWcgbFaJa9fx-JNW2MzHifFOZxEBzR2eobpsf8IfMbJa5QgwkF8sPW8pvk2RnY1pR8hXmtbmle4HBjSfc4yF4ADueElScQ2voCarnWOwaRi2I27vKVp8iljdCoPS3_dmhL9-GqMJy1hUhIiaHfZ1it4-6-hyqSR_xcehjz2B1YGHXOZ2jC44cIzFopPPFR05yzV-Tb7QFdbhZycjvMKLZA1LH8KtA-qFy0j1EMtgS0yOOvd9e8BL-G9W8y75R7NpRNe8Cvx7xuUZ7c9KcQXJHagK48KoMKBMLaK6dz5qtx2_NPNoN_qfA3t1_N9Wer9_X_U_Q72BfGq7RK5EkJGex8UkK59gJYyvHV2gE5DGKMo7BEvKphBNOARinWfN9NUjPZATKoV2SYuxxHK4DYF56fhNDfV55K6K1k7fjOq4VKiaGzJeOCFbk1UnL75R8FtFuXdq1ZqeDxbR3wmDHe3sr2Foc87mw_FZJfl14G_Twjo2EXIsvsSy6eblxmQvWKqcq1xXQYGIbTLov1ihoXzXok6DgKWWu_FzTs3Lskx5kONf3WvPo81c0yYxS3H0pkX0ANdP6Is1s4QL3GyKlD9sDJaQljwwAnIhTTpL5MsyzP_503y6DnHo2SWc-RgTdcNMy6TKviHWmg9AKFuGYaUMIQhtIvQaQgiIZWWt8lVdbMYMI9EmIpMVi0IcXfP2oLZIgt6oJ3f9Y7GuRhxsxBKEsw9J7jF0cpyOVu7gsVUkeEA4ujqhEMPiCGZA./download\n",
            "Resolving public.boxcloud.com (public.boxcloud.com)... 107.152.26.200\n",
            "Connecting to public.boxcloud.com (public.boxcloud.com)|107.152.26.200|:443... connected.\n",
            "HTTP request sent, awaiting response... 200 OK\n",
            "Length: 2891 (2.8K) [text/csv]\n",
            "Saving to: ‘Geospatial_data.4’\n",
            "\n",
            "Geospatial_data.4   100%[===================>]   2.82K  --.-KB/s    in 0s      \n",
            "\n",
            "2021-03-19 23:46:44 (606 MB/s) - ‘Geospatial_data.4’ saved [2891/2891]\n",
            "\n"
          ],
          "name": "stdout"
        }
      ]
    },
    {
      "cell_type": "code",
      "metadata": {
        "colab": {
          "base_uri": "https://localhost:8080/",
          "height": 419
        },
        "id": "XPbSDkaR1QlW",
        "outputId": "51607bc1-015f-4421-a0db-491209b58e02"
      },
      "source": [
        "geo_df = pd.read_csv('/content/Geospatial_data')\n",
        "geo_df"
      ],
      "execution_count": null,
      "outputs": [
        {
          "output_type": "execute_result",
          "data": {
            "text/html": [
              "<div>\n",
              "<style scoped>\n",
              "    .dataframe tbody tr th:only-of-type {\n",
              "        vertical-align: middle;\n",
              "    }\n",
              "\n",
              "    .dataframe tbody tr th {\n",
              "        vertical-align: top;\n",
              "    }\n",
              "\n",
              "    .dataframe thead th {\n",
              "        text-align: right;\n",
              "    }\n",
              "</style>\n",
              "<table border=\"1\" class=\"dataframe\">\n",
              "  <thead>\n",
              "    <tr style=\"text-align: right;\">\n",
              "      <th></th>\n",
              "      <th>Postal Code</th>\n",
              "      <th>Latitude</th>\n",
              "      <th>Longitude</th>\n",
              "    </tr>\n",
              "  </thead>\n",
              "  <tbody>\n",
              "    <tr>\n",
              "      <th>0</th>\n",
              "      <td>M1B</td>\n",
              "      <td>43.806686</td>\n",
              "      <td>-79.194353</td>\n",
              "    </tr>\n",
              "    <tr>\n",
              "      <th>1</th>\n",
              "      <td>M1C</td>\n",
              "      <td>43.784535</td>\n",
              "      <td>-79.160497</td>\n",
              "    </tr>\n",
              "    <tr>\n",
              "      <th>2</th>\n",
              "      <td>M1E</td>\n",
              "      <td>43.763573</td>\n",
              "      <td>-79.188711</td>\n",
              "    </tr>\n",
              "    <tr>\n",
              "      <th>3</th>\n",
              "      <td>M1G</td>\n",
              "      <td>43.770992</td>\n",
              "      <td>-79.216917</td>\n",
              "    </tr>\n",
              "    <tr>\n",
              "      <th>4</th>\n",
              "      <td>M1H</td>\n",
              "      <td>43.773136</td>\n",
              "      <td>-79.239476</td>\n",
              "    </tr>\n",
              "    <tr>\n",
              "      <th>...</th>\n",
              "      <td>...</td>\n",
              "      <td>...</td>\n",
              "      <td>...</td>\n",
              "    </tr>\n",
              "    <tr>\n",
              "      <th>98</th>\n",
              "      <td>M9N</td>\n",
              "      <td>43.706876</td>\n",
              "      <td>-79.518188</td>\n",
              "    </tr>\n",
              "    <tr>\n",
              "      <th>99</th>\n",
              "      <td>M9P</td>\n",
              "      <td>43.696319</td>\n",
              "      <td>-79.532242</td>\n",
              "    </tr>\n",
              "    <tr>\n",
              "      <th>100</th>\n",
              "      <td>M9R</td>\n",
              "      <td>43.688905</td>\n",
              "      <td>-79.554724</td>\n",
              "    </tr>\n",
              "    <tr>\n",
              "      <th>101</th>\n",
              "      <td>M9V</td>\n",
              "      <td>43.739416</td>\n",
              "      <td>-79.588437</td>\n",
              "    </tr>\n",
              "    <tr>\n",
              "      <th>102</th>\n",
              "      <td>M9W</td>\n",
              "      <td>43.706748</td>\n",
              "      <td>-79.594054</td>\n",
              "    </tr>\n",
              "  </tbody>\n",
              "</table>\n",
              "<p>103 rows × 3 columns</p>\n",
              "</div>"
            ],
            "text/plain": [
              "    Postal Code   Latitude  Longitude\n",
              "0           M1B  43.806686 -79.194353\n",
              "1           M1C  43.784535 -79.160497\n",
              "2           M1E  43.763573 -79.188711\n",
              "3           M1G  43.770992 -79.216917\n",
              "4           M1H  43.773136 -79.239476\n",
              "..          ...        ...        ...\n",
              "98          M9N  43.706876 -79.518188\n",
              "99          M9P  43.696319 -79.532242\n",
              "100         M9R  43.688905 -79.554724\n",
              "101         M9V  43.739416 -79.588437\n",
              "102         M9W  43.706748 -79.594054\n",
              "\n",
              "[103 rows x 3 columns]"
            ]
          },
          "metadata": {
            "tags": []
          },
          "execution_count": 13
        }
      ]
    },
    {
      "cell_type": "markdown",
      "metadata": {
        "id": "R1R0d0R-UX4t"
      },
      "source": [
        "Now that we have a dataframe with the location information for each postal code, we can perform an inner join between geo_df and the toronto_df using the Postal Code to give the complete information in one dataframe object."
      ]
    },
    {
      "cell_type": "code",
      "metadata": {
        "colab": {
          "base_uri": "https://localhost:8080/",
          "height": 419
        },
        "id": "CjzOwznJ1fCl",
        "outputId": "d6812617-960b-4075-d6e8-d7ace50bed2f"
      },
      "source": [
        "pd.merge(toronto_df, geo_df, how='inner',on='Postal Code')\n"
      ],
      "execution_count": null,
      "outputs": [
        {
          "output_type": "execute_result",
          "data": {
            "text/html": [
              "<div>\n",
              "<style scoped>\n",
              "    .dataframe tbody tr th:only-of-type {\n",
              "        vertical-align: middle;\n",
              "    }\n",
              "\n",
              "    .dataframe tbody tr th {\n",
              "        vertical-align: top;\n",
              "    }\n",
              "\n",
              "    .dataframe thead th {\n",
              "        text-align: right;\n",
              "    }\n",
              "</style>\n",
              "<table border=\"1\" class=\"dataframe\">\n",
              "  <thead>\n",
              "    <tr style=\"text-align: right;\">\n",
              "      <th></th>\n",
              "      <th>Postal Code</th>\n",
              "      <th>Neighborhood</th>\n",
              "      <th>Borough</th>\n",
              "      <th>Latitude</th>\n",
              "      <th>Longitude</th>\n",
              "    </tr>\n",
              "  </thead>\n",
              "  <tbody>\n",
              "    <tr>\n",
              "      <th>0</th>\n",
              "      <td>M3A</td>\n",
              "      <td>Parkwoods</td>\n",
              "      <td>North York</td>\n",
              "      <td>43.753259</td>\n",
              "      <td>-79.329656</td>\n",
              "    </tr>\n",
              "    <tr>\n",
              "      <th>1</th>\n",
              "      <td>M4A</td>\n",
              "      <td>Victoria Village</td>\n",
              "      <td>North York</td>\n",
              "      <td>43.725882</td>\n",
              "      <td>-79.315572</td>\n",
              "    </tr>\n",
              "    <tr>\n",
              "      <th>2</th>\n",
              "      <td>M5A</td>\n",
              "      <td>Regent Park, Harbourfront</td>\n",
              "      <td>Downtown Toronto</td>\n",
              "      <td>43.654260</td>\n",
              "      <td>-79.360636</td>\n",
              "    </tr>\n",
              "    <tr>\n",
              "      <th>3</th>\n",
              "      <td>M6A</td>\n",
              "      <td>Lawrence Manor, Lawrence Heights</td>\n",
              "      <td>North York</td>\n",
              "      <td>43.718518</td>\n",
              "      <td>-79.464763</td>\n",
              "    </tr>\n",
              "    <tr>\n",
              "      <th>4</th>\n",
              "      <td>M7A</td>\n",
              "      <td>Queen's Park, Ontario Provincial Government</td>\n",
              "      <td>Downtown Toronto</td>\n",
              "      <td>43.662301</td>\n",
              "      <td>-79.389494</td>\n",
              "    </tr>\n",
              "    <tr>\n",
              "      <th>...</th>\n",
              "      <td>...</td>\n",
              "      <td>...</td>\n",
              "      <td>...</td>\n",
              "      <td>...</td>\n",
              "      <td>...</td>\n",
              "    </tr>\n",
              "    <tr>\n",
              "      <th>98</th>\n",
              "      <td>M8X</td>\n",
              "      <td>The Kingsway, Montgomery Road, Old Mill North</td>\n",
              "      <td>Etobicoke</td>\n",
              "      <td>43.653654</td>\n",
              "      <td>-79.506944</td>\n",
              "    </tr>\n",
              "    <tr>\n",
              "      <th>99</th>\n",
              "      <td>M4Y</td>\n",
              "      <td>Church and Wellesley</td>\n",
              "      <td>Downtown Toronto</td>\n",
              "      <td>43.665860</td>\n",
              "      <td>-79.383160</td>\n",
              "    </tr>\n",
              "    <tr>\n",
              "      <th>100</th>\n",
              "      <td>M7Y</td>\n",
              "      <td>Business reply mail Processing Centre, South C...</td>\n",
              "      <td>East Toronto</td>\n",
              "      <td>43.662744</td>\n",
              "      <td>-79.321558</td>\n",
              "    </tr>\n",
              "    <tr>\n",
              "      <th>101</th>\n",
              "      <td>M8Y</td>\n",
              "      <td>Old Mill South, King's Mill Park, Sunnylea, Hu...</td>\n",
              "      <td>Etobicoke</td>\n",
              "      <td>43.636258</td>\n",
              "      <td>-79.498509</td>\n",
              "    </tr>\n",
              "    <tr>\n",
              "      <th>102</th>\n",
              "      <td>M8Z</td>\n",
              "      <td>Mimico NW, The Queensway West, South of Bloor,...</td>\n",
              "      <td>Etobicoke</td>\n",
              "      <td>43.628841</td>\n",
              "      <td>-79.520999</td>\n",
              "    </tr>\n",
              "  </tbody>\n",
              "</table>\n",
              "<p>103 rows × 5 columns</p>\n",
              "</div>"
            ],
            "text/plain": [
              "    Postal Code  ...  Longitude\n",
              "0           M3A  ... -79.329656\n",
              "1           M4A  ... -79.315572\n",
              "2           M5A  ... -79.360636\n",
              "3           M6A  ... -79.464763\n",
              "4           M7A  ... -79.389494\n",
              "..          ...  ...        ...\n",
              "98          M8X  ... -79.506944\n",
              "99          M4Y  ... -79.383160\n",
              "100         M7Y  ... -79.321558\n",
              "101         M8Y  ... -79.498509\n",
              "102         M8Z  ... -79.520999\n",
              "\n",
              "[103 rows x 5 columns]"
            ]
          },
          "metadata": {
            "tags": []
          },
          "execution_count": 14
        }
      ]
    },
    {
      "cell_type": "code",
      "metadata": {
        "id": "6mN9KsUp4AUB"
      },
      "source": [
        ""
      ],
      "execution_count": null,
      "outputs": []
    }
  ]
}