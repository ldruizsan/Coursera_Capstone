{
  "nbformat": 4,
  "nbformat_minor": 0,
  "metadata": {
    "colab": {
      "name": "ProblemDescription.ipynb",
      "provenance": [],
      "authorship_tag": "ABX9TyNlAKJPeFD76Bf4eZG8970L",
      "include_colab_link": true
    },
    "kernelspec": {
      "name": "python3",
      "display_name": "Python 3"
    },
    "language_info": {
      "name": "python"
    }
  },
  "cells": [
    {
      "cell_type": "markdown",
      "metadata": {
        "id": "view-in-github",
        "colab_type": "text"
      },
      "source": [
        "<a href=\"https://colab.research.google.com/github/ldruizsan/Coursera_Capstone/blob/main/ProblemDescription.ipynb\" target=\"_parent\"><img src=\"https://colab.research.google.com/assets/colab-badge.svg\" alt=\"Open In Colab\"/></a>"
      ]
    },
    {
      "cell_type": "markdown",
      "metadata": {
        "id": "7WIW3ztPHbTL"
      },
      "source": [
        "# Business Case\n",
        "## We have a client who wants to open up a shop in Toronto. He is considering either a coffee shop or a bar venue. The client wants us to determine what would be a better location for him. Ideally, he wants a location that has a lot of traffic but not a lot of competition already set up. "
      ]
    },
    {
      "cell_type": "markdown",
      "metadata": {
        "id": "1HN-0zuHOpt6"
      },
      "source": [
        "# Data\n",
        "## We will use the FourSquare API data to cluster the venue location data for Toronto. Once location data has been added, we can determine areas that have higher foot traffic by finding the most dense clusters and we can cross-reference that with clusters containing the fewest competitors already set up using a filter. \n",
        "\n",
        "Description of the data:\n",
        "\n",
        "The FourSquare API data gives us information like type of shop, location, ratings, and description. With this data we can use the ratings and location to find a good place for our client to open up shop. We will count the number of shops and the average rating for such venues to make a decision about location and figure out what the competition looks like in a given area."
      ]
    }
  ]
}